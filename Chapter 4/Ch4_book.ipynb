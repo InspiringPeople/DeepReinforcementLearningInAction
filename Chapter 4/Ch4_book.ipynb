{
 "cells": [
  {
   "cell_type": "markdown",
   "metadata": {},
   "source": [
    "# Chapter 4 - Policy Gradient Methods"
   ]
  },
  {
   "cell_type": "markdown",
   "metadata": {},
   "source": [
    "딥마인드가 MuJoCo(stands for Multi-Joint Dynamics with Contact)를 인수해서 무료로 풀었음  \n",
    "https://deepmind.com/blog/announcements/mujoco?fbclid=IwAR335gR8v0QyDtFCvBRGHmZUzhFC3vbTeebHL6SQt_7g2AEDIenzZblFsA4\n"
   ]
  },
  {
   "cell_type": "code",
   "execution_count": 1,
   "metadata": {},
   "outputs": [],
   "source": [
    "import numpy as np\n",
    "import torch\n",
    "import gym\n",
    "from matplotlib import pyplot as plt"
   ]
  },
  {
   "cell_type": "code",
   "execution_count": 2,
   "metadata": {},
   "outputs": [],
   "source": [
    "def running_mean(x, N=50):\n",
    "    kernel = np.ones(N)\n",
    "    conv_len = x.shape[0]-N\n",
    "    y = np.zeros(conv_len)\n",
    "    for i in range(conv_len):\n",
    "        y[i] = kernel @ x[i:i+N]\n",
    "        y[i] /= N\n",
    "    return y"
   ]
  },
  {
   "cell_type": "code",
   "execution_count": 3,
   "metadata": {},
   "outputs": [],
   "source": [
    "env = gym.make(\"CartPole-v0\")"
   ]
  },
  {
   "cell_type": "markdown",
   "metadata": {},
   "source": [
    "##### Listing 4.4  \n",
    "LeakyReLU : ReLU의 dying ReLu 문제점(한번 0 활성화 값을 다음 레이어에 전달하면 이후의 뉴런들의 출력값이 모두 0이 되는 현상)해결 위해 나옴, 0대신 약한 음수 선형값으로 출력    \n",
    "Softmax : 0-1 사이의 값으로 모든 합이 1이 될수 있게 확률분포값 출력  "
   ]
  },
  {
   "cell_type": "code",
   "execution_count": 4,
   "metadata": {},
   "outputs": [],
   "source": [
    "import gym\n",
    "import numpy as np\n",
    "import torch\n",
    "\n",
    "l1 = 4 #A\n",
    "l2 = 150\n",
    "l3 = 2 #B\n",
    "\n",
    "model = torch.nn.Sequential(\n",
    "    torch.nn.Linear(l1, l2),\n",
    "    torch.nn.LeakyReLU(),\n",
    "    torch.nn.Linear(l2, l3),\n",
    "    torch.nn.Softmax(dim=0) #C\n",
    ")\n",
    "\n",
    "learning_rate = 0.009\n",
    "optimizer = torch.optim.Adam(model.parameters(), lr=learning_rate)\n",
    "\n",
    "#A Input data is length 4\n",
    "#B Output is a 2-length vector for the Left and the Right actions\n",
    "#C Output is a softmax probability distribution over actions\n",
    "# 현재 State에 따른 action의 확률분포값을 출력  "
   ]
  },
  {
   "cell_type": "markdown",
   "metadata": {},
   "source": [
    "##### Listing 4.5  \n",
    "policy gradient 사용하여 동작 선택  "
   ]
  },
  {
   "cell_type": "code",
   "execution_count": 5,
   "metadata": {},
   "outputs": [],
   "source": [
    "state1 = env.reset()\n",
    "pred = model(torch.from_numpy(state1).float()) #G\n",
    "action = np.random.choice(np.array([0,1]), p=pred.data.numpy()) #H\n",
    "state2, reward, done, info = env.step(action) #I\n",
    "\n",
    "#G Call policy network model to produce predicted action probabilities\n",
    "#H Sample an action from the probability distribution produced by the policy network\n",
    "#I Take the action, receive new state and reward. The info variable is produced by the environment but is irrelevant"
   ]
  },
  {
   "cell_type": "markdown",
   "metadata": {},
   "source": [
    "##### Listing 4.6  \n",
    "훈련 과정의 손실 값 : 동작 확률들의 discount reward를 곱해서 합한후 -1을 곱함  \n",
    "GridWorld와 달리 cartpole은 승리가 없음, 항상 마지막은 패배이기 때문에 마지막 동작이 제일 큰 Discount rate 가짐 (그 행동 다시 하지 않도록)  \n",
    "동작 확률들의 합이 1이어야하므로 좋은 동작 확률 증가되면 다른 나쁜 동작 확률이 감소  \n",
    "각 동작에 discount reward 계산할 때 선형보다는 지수 할인 계수 적용이 더 좋음  \n",
    "각 보상에 max 보상을 나눠서 0~1 사이의 값으로 정규화 (학습 안정적)  "
   ]
  },
  {
   "cell_type": "code",
   "execution_count": 6,
   "metadata": {},
   "outputs": [],
   "source": [
    "def discount_rewards(rewards, gamma=0.99):\n",
    "    lenr = len(rewards)\n",
    "    disc_return = torch.pow(gamma,torch.arange(lenr).float()) * rewards #A 지수 할인계수 적용\n",
    "    disc_return /= disc_return.max() #B\n",
    "    return disc_return\n",
    "\n",
    "#A Compute exponentially decaying rewards\n",
    "#B Normalize the rewards to be within the [0,1] interval to improve numerical stability"
   ]
  },
  {
   "cell_type": "markdown",
   "metadata": {},
   "source": [
    "##### Listing 4.7  \n",
    "손실 : 주어진 상태에서 동작의 음의 로그 확률을 Rewards로 곱한 합  \n",
    "log loss : 확률 값을 음의 log함수에 넣어 변환을 시킨 값으로 평가하는데, 이는 잘못 예측할 수록, 패널티를 부여하기 위함  \n",
    "최대화되어야하는 확률 𝑝 을 공식화 할 수있는 Gradient 방법에서는 실제로 일부 매개 변수에 대한 확률 p 대신 로그 확률 log𝑝 를 최적화  \n",
    "- 일반적으로 log𝑝 (𝑥)의 기울기가 일반적으로 더 잘 조정 \n",
    "- 확률은 정의에 따라 0과 1로 제한되므로 최적화 프로그램이 작동 할 수있는 값의 범위가 제한되고 작음, 확률이 매우 작거나 1에 매우 가까울 수 있으며 수치 정밀도가 제한된 컴퓨터에서 최적화 할 때 수치 문제가 발생  \n",
    "- log p (자연 로그)를 사용하면 확률 공간의 로그가 (-∞, 0)에서 범위가되므로 원시 확률 공간보다 더 큰 \"동적 범위\"를 갖는 목적이 있습니다. 로그 확률을 더 쉽게 계산  \n",
    "\n"
   ]
  },
  {
   "cell_type": "code",
   "execution_count": 7,
   "metadata": {},
   "outputs": [],
   "source": [
    "def loss_fn(preds, r): #A\n",
    "    return -1 * torch.sum(r * torch.log(preds)) #B\n",
    "\n",
    "#A The loss function expects an array of action probabilities for the actions that were taken and the discounted rewards.\n",
    "#B It computes the log of the probabilities, multiplies by the discounted rewards, sums them all and flips the sign."
   ]
  },
  {
   "cell_type": "markdown",
   "metadata": {},
   "source": [
    "##### Listing 4.8  \n",
    "환경 초기화, 에피소드 진행 - action, loss 수집 - 역전파  "
   ]
  },
  {
   "cell_type": "code",
   "execution_count": 8,
   "metadata": {},
   "outputs": [],
   "source": [
    "MAX_DUR = 300 # 200번 이상 넘기면 잘 훈련된 것으로 인정\n",
    "MAX_EPISODES = 500\n",
    "gamma = 0.99\n",
    "score = [] #A\n",
    "expectation = 0.0\n",
    "for episode in range(MAX_EPISODES):\n",
    "    curr_state = env.reset()\n",
    "    done = False\n",
    "    transitions = [] #B\n",
    "    \n",
    "    for t in range(MAX_DUR): #C\n",
    "        act_prob = model(torch.from_numpy(curr_state).float()) #D\n",
    "        action = np.random.choice(np.array([0,1]), p=act_prob.data.numpy()) #E\n",
    "        prev_state = curr_state\n",
    "        curr_state, _, done, info = env.step(action) #F 확률로 얻어진 동작 실행  \n",
    "        transitions.append((prev_state, action, t+1)) #G 현재상태, 동작, (보상)\n",
    "        if done: #H\n",
    "            break\n",
    "\n",
    "    ep_len = len(transitions) #I\n",
    "    score.append(ep_len)\n",
    "    reward_batch = torch.Tensor([r for (s,a,r) in transitions]).flip(dims=(0,)) #J\n",
    "    disc_returns = discount_rewards(reward_batch) #K\n",
    "    state_batch = torch.Tensor([s for (s,a,r) in transitions]) #L\n",
    "    action_batch = torch.Tensor([a for (s,a,r) in transitions]) #M\n",
    "    pred_batch = model(state_batch) #N\n",
    "    prob_batch = pred_batch.gather(dim=1,index=action_batch.long().view(-1,1)).squeeze() #O\n",
    "    # 각 상태에서 실제로 취한 동작들의 확률값만 모으기  \n",
    "    loss = loss_fn(prob_batch, disc_returns)\n",
    "    optimizer.zero_grad()\n",
    "    loss.backward()\n",
    "    optimizer.step()\n",
    "\n",
    "#A List to keep track of the episode length over training time\n",
    "#B List of state, action, rewards (but we ignore the reward)\n",
    "#C While in episode\n",
    "#D Get the action probabilities\n",
    "#E Select an action stochastically\n",
    "#F Take the action in the environment\n",
    "#G Store this transition\n",
    "#H If game is lost, break out of the loop\n",
    "#I Store the episode length\n",
    "#J Collect all the rewards in the episode in a single tensor\n",
    "#K Compute the discounted version of the rewards\n",
    "#L Collect the states in the episode in a single tensor\n",
    "#M Collect the actions in the episode in a single tensor\n",
    "#N Re-compute the action probabilities for all the states in the episode\n",
    "#O Subset the action-probabilities associated with the actions that were actually taken "
   ]
  },
  {
   "cell_type": "code",
   "execution_count": 9,
   "metadata": {},
   "outputs": [],
   "source": [
    "score = np.array(score)\n",
    "avg_score = running_mean(score, 50)"
   ]
  },
  {
   "cell_type": "code",
   "execution_count": 10,
   "metadata": {},
   "outputs": [
    {
     "data": {
      "text/plain": [
       "[<matplotlib.lines.Line2D at 0x7fdbd24729d0>]"
      ]
     },
     "execution_count": 10,
     "metadata": {},
     "output_type": "execute_result"
    },
    {
     "data": {
      "image/png": "[encoded data removed]",
      "text/plain": [
       "<Figure size 720x504 with 1 Axes>"
      ]
     },
     "metadata": {
      "needs_background": "light"
     },
     "output_type": "display_data"
    }
   ],
   "source": [
    "plt.figure(figsize=(10,7))\n",
    "plt.ylabel(\"Episode Duration\",fontsize=22)\n",
    "plt.xlabel(\"Training Epochs\",fontsize=22)\n",
    "plt.plot(avg_score, color='green')"
   ]
  },
  {
   "cell_type": "markdown",
   "metadata": {},
   "source": [
    "##### Listing 4.9"
   ]
  },
  {
   "cell_type": "code",
   "execution_count": 11,
   "metadata": {},
   "outputs": [],
   "source": [
    "score = []\n",
    "games = 100\n",
    "done = False\n",
    "state1 = env.reset()\n",
    "for i in range(games):\n",
    "    t=0\n",
    "    while not done: #F\n",
    "        pred = model(torch.from_numpy(state1).float()) #G\n",
    "        action = np.random.choice(np.array([0,1]), p=pred.data.numpy()) #H\n",
    "        state2, reward, done, info = env.step(action) #I\n",
    "        state1 = state2 \n",
    "        t += 1\n",
    "        if t > MAX_DUR: #L\n",
    "            break;\n",
    "    state1 = env.reset()\n",
    "    done = False\n",
    "    score.append(t)\n",
    "score = np.array(score)"
   ]
  },
  {
   "cell_type": "code",
   "execution_count": 12,
   "metadata": {},
   "outputs": [
    {
     "data": {
      "text/plain": [
       "<matplotlib.collections.PathCollection at 0x7fdbb02833d0>"
      ]
     },
     "execution_count": 12,
     "metadata": {},
     "output_type": "execute_result"
    },
    {
     "data": {
      "image/png": "[encoded data removed]",
      "text/plain": [
       "<Figure size 432x288 with 1 Axes>"
      ]
     },
     "metadata": {
      "needs_background": "light"
     },
     "output_type": "display_data"
    }
   ],
   "source": [
    "plt.scatter(np.arange(score.shape[0]),score)"
   ]
  },
  {
   "cell_type": "markdown",
   "metadata": {},
   "source": [
    "REINFORCE는 정책함수를 효과적이고 쉽게 훈련  \n",
    "그러나 state, action이 많아지면 각 에피소드에서 동작들을 모두 강화했을 때 좋은 동작만 강화되기 어려움  \n",
    "더 정교한 방법, to be continue"
   ]
  },
  {
   "cell_type": "code",
   "execution_count": null,
   "metadata": {},
   "outputs": [],
   "source": []
  }
 ],
 "metadata": {
  "kernelspec": {
   "display_name": "Python 3",
   "language": "python",
   "name": "python3"
  },
  "language_info": {
   "codemirror_mode": {
    "name": "ipython",
    "version": 3
   },
   "file_extension": ".py",
   "mimetype": "text/x-python",
   "name": "python",
   "nbconvert_exporter": "python",
   "pygments_lexer": "ipython3",
   "version": "3.8.5"
  }
 },
 "nbformat": 4,
 "nbformat_minor": 4
}
